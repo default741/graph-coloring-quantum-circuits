{
 "cells": [
  {
   "cell_type": "markdown",
   "id": "c1afe7e9",
   "metadata": {},
   "source": [
    "# Auto Phase Flip Graph Coloring Oracle and Grover's Search (Two Nodes, 1 Edge)"
   ]
  },
  {
   "cell_type": "code",
   "execution_count": 1,
   "id": "63ae4db4",
   "metadata": {},
   "outputs": [],
   "source": [
    "import warnings\n",
    "warnings.filterwarnings(\"ignore\")"
   ]
  },
  {
   "cell_type": "markdown",
   "id": "13145b55",
   "metadata": {},
   "source": [
    "## Initialize Problem Statement"
   ]
  },
  {
   "cell_type": "code",
   "execution_count": 2,
   "id": "7f0bc6e3",
   "metadata": {},
   "outputs": [],
   "source": [
    "num_vertices = 2\n",
    "edges_list = [(0, 1)]\n",
    "\n",
    "num_edges = len(edges_list)\n",
    "num_qubits = (2 * num_vertices) + num_edges + 1\n",
    "\n",
    "possible_solutions = [\"100010\", \"101000\"]"
   ]
  },
  {
   "cell_type": "code",
   "execution_count": 3,
   "id": "3b4c13b1",
   "metadata": {},
   "outputs": [
    {
     "name": "stdout",
     "output_type": "stream",
     "text": [
      "Number of Vertices: 2\n",
      "Number of Edges: 1\n",
      "Edges List: [(0, 1)]\n",
      "\n",
      "Number of Qubits: 6\n",
      "Possible Solutions: ['100010', '101000']\n"
     ]
    }
   ],
   "source": [
    "print(f\"Number of Vertices: {num_vertices}\")\n",
    "print(f\"Number of Edges: {num_edges}\")\n",
    "print(f\"Edges List: {edges_list}\\n\")\n",
    "\n",
    "print(f\"Number of Qubits: {num_qubits}\")\n",
    "print(f\"Possible Solutions: {possible_solutions}\")"
   ]
  },
  {
   "cell_type": "markdown",
   "id": "e1a29a46",
   "metadata": {},
   "source": [
    "### Visualize Graph"
   ]
  },
  {
   "cell_type": "code",
   "execution_count": 4,
   "id": "ec9ee9be",
   "metadata": {},
   "outputs": [
    {
     "data": {
      "image/png": "[encoded data removed]",
      "text/plain": [
       "<Figure size 640x480 with 1 Axes>"
      ]
     },
     "metadata": {},
     "output_type": "display_data"
    }
   ],
   "source": [
    "import networkx as nx\n",
    "from networkx import Graph\n",
    "\n",
    "def display_graph(num_vertices: int, edges_list: list[tuple[int]]) -> None:\n",
    "    G = Graph()\n",
    "\n",
    "    G.add_nodes_from(list(range(num_vertices)))\n",
    "    G.add_edges_from(edges_list)\n",
    "\n",
    "    nx.draw_networkx(G, pos=nx.spring_layout(G), with_labels=True)\n",
    "\n",
    "display_graph(num_vertices=num_vertices, edges_list=edges_list)"
   ]
  },
  {
   "cell_type": "markdown",
   "id": "13d55056",
   "metadata": {},
   "source": [
    "## Utility Class"
   ]
  },
  {
   "cell_type": "code",
   "execution_count": 5,
   "id": "6a2fb004",
   "metadata": {},
   "outputs": [],
   "source": [
    "from qiskit.quantum_info import Statevector, Operator, DensityMatrix, partial_trace, entropy\n",
    "from IPython.display import display\n",
    "from qiskit import QuantumCircuit, transpile\n",
    "from qiskit_aer.backends import AerSimulator\n",
    "from qiskit.visualization import plot_histogram\n",
    "\n",
    "import numpy as np\n",
    "\n",
    "class Utils:\n",
    "\n",
    "    @staticmethod\n",
    "    def test_label_circuit(label: str, instruction: QuantumCircuit | Operator) -> None:\n",
    "        test_vector_input = Statevector.from_label(label)\n",
    "        display(test_vector_input.draw(\"latex\", prefix=\"\\psi_{input} = \"))\n",
    "\n",
    "        test_vector_output = test_vector_input.evolve(instruction)\n",
    "        display(test_vector_output.draw(\"latex\", prefix=\"\\psi_{output} = O \\psi_{input} = \"))\n",
    "\n",
    "        return test_vector_output\n",
    "\n",
    "    @staticmethod\n",
    "    def is_entangled(state: Statevector, epsilon: float=1e-10) -> bool:\n",
    "        num_qubits = state.num_qubits\n",
    "        density_matrix = DensityMatrix(state)\n",
    "\n",
    "        for qubit in range(num_qubits):\n",
    "            trace_out = [i for i in range(num_qubits) if i != qubit]\n",
    "            reduced_dm = partial_trace(density_matrix, trace_out)\n",
    "\n",
    "            subsystem_entropy = entropy(reduced_dm)\n",
    "\n",
    "            if subsystem_entropy > epsilon:\n",
    "                return True\n",
    "\n",
    "        return False\n",
    "\n",
    "    @staticmethod\n",
    "    def simulate(circuit: QuantumCircuit, num_shots: int = 1024, display_circuit: bool = False) -> None:\n",
    "        circuit.measure_all(add_bits=False)\n",
    "\n",
    "        backend = AerSimulator()\n",
    "        circuit = transpile(circuit, backend=backend)\n",
    "\n",
    "        if display_circuit:\n",
    "            display(circuit.draw(\"mpl\"))\n",
    "\n",
    "        counts = backend.run(circuit, shots=num_shots).result().get_counts()\n",
    "        display(plot_histogram(counts, figsize=(15, 8)))\n",
    "\n",
    "    @staticmethod\n",
    "    def get_num_iter(num_qubits: int | None = None, num_states: int | None = None, num_solutions: int = None) -> int:\n",
    "        if num_solutions is None:\n",
    "            num_solutions = 1\n",
    "\n",
    "        if num_states is None:\n",
    "            num_states = 2 ** num_qubits\n",
    "\n",
    "        return int(np.floor((np.pi / 4) * np.sqrt(num_states / num_solutions)))"
   ]
  },
  {
   "cell_type": "markdown",
   "id": "31a63211",
   "metadata": {},
   "source": [
    "## Auto Flip Oracle"
   ]
  },
  {
   "cell_type": "markdown",
   "id": "ffaacfdf",
   "metadata": {},
   "source": [
    "### OR Block"
   ]
  },
  {
   "cell_type": "code",
   "execution_count": 6,
   "id": "a2ab5690",
   "metadata": {},
   "outputs": [
    {
     "data": {
      "text/latex": [
       "$$\n",
       "\n",
       "\\begin{bmatrix}\n",
       "1 & 0 & 0 & 0 & 0 & 0 & 0 & 0  \\\\\n",
       " 0 & 0 & 0 & 0 & 0 & 1 & 0 & 0  \\\\\n",
       " 0 & 0 & 0 & 0 & 0 & 0 & 1 & 0  \\\\\n",
       " 0 & 0 & 0 & 0 & 0 & 0 & 0 & 1  \\\\\n",
       " 0 & 0 & 0 & 0 & 1 & 0 & 0 & 0  \\\\\n",
       " 0 & 1 & 0 & 0 & 0 & 0 & 0 & 0  \\\\\n",
       " 0 & 0 & 1 & 0 & 0 & 0 & 0 & 0  \\\\\n",
       " 0 & 0 & 0 & 1 & 0 & 0 & 0 & 0  \\\\\n",
       " \\end{bmatrix}\n",
       "$$"
      ],
      "text/plain": [
       "<IPython.core.display.Latex object>"
      ]
     },
     "execution_count": 6,
     "metadata": {},
     "output_type": "execute_result"
    }
   ],
   "source": [
    "from qiskit import QuantumCircuit\n",
    "from qiskit.quantum_info import Operator\n",
    "\n",
    "def ORGate() -> Operator:\n",
    "    circuit = QuantumCircuit(3)\n",
    "\n",
    "    circuit.x(0)\n",
    "    circuit.x(1)\n",
    "    circuit.ccx(control_qubit1=0,\n",
    "                control_qubit2=1,\n",
    "                target_qubit=2)\n",
    "    circuit.x(0)\n",
    "    circuit.x(1)\n",
    "    circuit.x(2)\n",
    "\n",
    "    return Operator(circuit)\n",
    "\n",
    "ORGate().draw(\"latex\")"
   ]
  },
  {
   "cell_type": "markdown",
   "id": "9e74ef39",
   "metadata": {},
   "source": [
    "#### Test OR Block"
   ]
  },
  {
   "cell_type": "code",
   "execution_count": 7,
   "id": "c6a70eaa",
   "metadata": {},
   "outputs": [
    {
     "data": {
      "text/latex": [
       "$$ |000\\rangle$$"
      ],
      "text/plain": [
       "<IPython.core.display.Latex object>"
      ]
     },
     "metadata": {},
     "output_type": "display_data"
    },
    {
     "data": {
      "text/latex": [
       "$$ |110\\rangle$$"
      ],
      "text/plain": [
       "<IPython.core.display.Latex object>"
      ]
     },
     "metadata": {},
     "output_type": "display_data"
    },
    {
     "data": {
      "text/latex": [
       "$$ |101\\rangle$$"
      ],
      "text/plain": [
       "<IPython.core.display.Latex object>"
      ]
     },
     "metadata": {},
     "output_type": "display_data"
    },
    {
     "data": {
      "text/latex": [
       "$$ |111\\rangle$$"
      ],
      "text/plain": [
       "<IPython.core.display.Latex object>"
      ]
     },
     "metadata": {},
     "output_type": "display_data"
    }
   ],
   "source": [
    "from IPython.display import display\n",
    "from qiskit.quantum_info import Statevector\n",
    "\n",
    "testing_states = [\n",
    "    Statevector.from_label(\"000\"),\n",
    "    Statevector.from_label(\"010\"),\n",
    "    Statevector.from_label(\"001\"),\n",
    "    Statevector.from_label(\"011\"),\n",
    "]\n",
    "\n",
    "for states in testing_states:\n",
    "    display(states.evolve(ORGate()).draw(\"latex\"))"
   ]
  },
  {
   "cell_type": "markdown",
   "id": "5bb34fcf",
   "metadata": {},
   "source": [
    "## Similarity Block"
   ]
  },
  {
   "cell_type": "code",
   "execution_count": 8,
   "id": "8592812d",
   "metadata": {},
   "outputs": [
    {
     "data": {
      "text/latex": [
       "$$\n",
       "\n",
       "\\begin{bmatrix}\n",
       "1 & 0 & 0 & 0 & \\cdots & 0 & 0 & 0  \\\\\n",
       " 0 & 0 & 0 & 0 & \\cdots & 0 & 0 & 0  \\\\\n",
       " 0 & 0 & 0 & 0 & \\cdots & 0 & 0 & 0  \\\\\n",
       " 0 & 0 & 0 & 0 & \\cdots & 0 & 0 & 0  \\\\\n",
       " \\vdots & \\vdots & \\vdots & \\vdots & \\ddots & \\vdots & \\vdots & \\vdots \\\\\n",
       " 0 & 0 & 0 & 0 & \\cdots & 0 & 0 & 0  \\\\\n",
       " 0 & 0 & 0 & 0 & \\cdots & 0 & 0 & 0  \\\\\n",
       " 0 & 0 & 0 & 0 & \\cdots & 0 & 0 & 1  \\\\\n",
       " \\end{bmatrix}\n",
       "$$"
      ],
      "text/plain": [
       "<IPython.core.display.Latex object>"
      ]
     },
     "execution_count": 8,
     "metadata": {},
     "output_type": "execute_result"
    }
   ],
   "source": [
    "from qiskit import QuantumCircuit\n",
    "from qiskit.quantum_info import Operator\n",
    "\n",
    "def similarity_operator() -> Operator:\n",
    "    circuit = QuantumCircuit(5)\n",
    "\n",
    "    circuit.cx(0, 2)\n",
    "    circuit.cx(1, 3)\n",
    "\n",
    "    circuit.append(ORGate(), [2, 3, 4])\n",
    "\n",
    "    circuit.cx(0, 2)\n",
    "    circuit.cx(1, 3)\n",
    "\n",
    "    return Operator(circuit)\n",
    "\n",
    "similarity_operator().draw(\"latex\")"
   ]
  },
  {
   "cell_type": "markdown",
   "id": "32115150",
   "metadata": {},
   "source": [
    "### Test Similarity Block"
   ]
  },
  {
   "cell_type": "markdown",
   "id": "7117cef9",
   "metadata": {},
   "source": [
    "#### Positive Test"
   ]
  },
  {
   "cell_type": "code",
   "execution_count": 9,
   "id": "0a04ef46",
   "metadata": {},
   "outputs": [
    {
     "data": {
      "text/latex": [
       "$$\\psi_{input} =  |01000\\rangle$$"
      ],
      "text/plain": [
       "<IPython.core.display.Latex object>"
      ]
     },
     "metadata": {},
     "output_type": "display_data"
    },
    {
     "data": {
      "text/latex": [
       "$$\\psi_{output} = O \\psi_{input} =  |11000\\rangle$$"
      ],
      "text/plain": [
       "<IPython.core.display.Latex object>"
      ]
     },
     "metadata": {},
     "output_type": "display_data"
    }
   ],
   "source": [
    "input_label = \"01000\"\n",
    "instruction = similarity_operator()\n",
    "\n",
    "output_vector = Utils.test_label_circuit(label=input_label, instruction=instruction)"
   ]
  },
  {
   "cell_type": "markdown",
   "id": "de80074b",
   "metadata": {},
   "source": [
    "#### Negative Test"
   ]
  },
  {
   "cell_type": "code",
   "execution_count": 10,
   "id": "e40f27ae",
   "metadata": {},
   "outputs": [
    {
     "data": {
      "text/latex": [
       "$$\\psi_{input} =  |00000\\rangle$$"
      ],
      "text/plain": [
       "<IPython.core.display.Latex object>"
      ]
     },
     "metadata": {},
     "output_type": "display_data"
    },
    {
     "data": {
      "text/latex": [
       "$$\\psi_{output} = O \\psi_{input} =  |00000\\rangle$$"
      ],
      "text/plain": [
       "<IPython.core.display.Latex object>"
      ]
     },
     "metadata": {},
     "output_type": "display_data"
    }
   ],
   "source": [
    "input_label = \"00000\"\n",
    "instruction = similarity_operator()\n",
    "\n",
    "output_vector = Utils.test_label_circuit(label=input_label, instruction=instruction)"
   ]
  },
  {
   "cell_type": "markdown",
   "id": "6138dc11",
   "metadata": {},
   "source": [
    "## Grover's Oracle Function"
   ]
  },
  {
   "cell_type": "code",
   "execution_count": 11,
   "id": "3a2a93af",
   "metadata": {},
   "outputs": [
    {
     "data": {
      "text/latex": [
       "$$\n",
       "\n",
       "\\begin{bmatrix}\n",
       "1 & 0 & 0 & 0 & \\cdots & 0 & 0 & 0  \\\\\n",
       " 0 & 1 & 0 & 0 & \\cdots & 0 & 0 & 0  \\\\\n",
       " 0 & 0 & 1 & 0 & \\cdots & 0 & 0 & 0  \\\\\n",
       " 0 & 0 & 0 & 1 & \\cdots & 0 & 0 & 0  \\\\\n",
       " \\vdots & \\vdots & \\vdots & \\vdots & \\ddots & \\vdots & \\vdots & \\vdots \\\\\n",
       " 0 & 0 & 0 & 0 & \\cdots & 1 & 0 & 0  \\\\\n",
       " 0 & 0 & 0 & 0 & \\cdots & 0 & 1 & 0  \\\\\n",
       " 0 & 0 & 0 & 0 & \\cdots & 0 & 0 & -1  \\\\\n",
       " \\end{bmatrix}\n",
       "$$"
      ],
      "text/plain": [
       "<IPython.core.display.Latex object>"
      ]
     },
     "execution_count": 11,
     "metadata": {},
     "output_type": "execute_result"
    }
   ],
   "source": [
    "from qiskit import QuantumCircuit\n",
    "from qiskit.quantum_info import Operator\n",
    "\n",
    "def grover_oracle(num_qubits: int, num_vertices: int, edges_list: list[tuple[int]]) -> Operator:\n",
    "    ancilla_qubits = list(range(num_vertices * 2, num_qubits - 1))\n",
    "\n",
    "    vertices = list(range(num_vertices * 2))\n",
    "    vertex_qubits = [[vertices[i], vertices[i + 1]]\n",
    "                     for i in range(0, len(range(len(vertices))), 2)]\n",
    "\n",
    "    sim_op = similarity_operator()\n",
    "    circuit = QuantumCircuit(num_qubits)\n",
    "\n",
    "    for edge_index, edge_nodes in enumerate(edges_list):\n",
    "        apply_to_qubits = vertex_qubits[edge_nodes[0]] + vertex_qubits[edge_nodes[1]] + [ancilla_qubits[edge_index]]\n",
    "        circuit.append(sim_op, apply_to_qubits)\n",
    "\n",
    "    circuit.h(num_qubits - 1)\n",
    "    circuit.mcx(ancilla_qubits, num_qubits - 1)\n",
    "    circuit.h(num_qubits - 1)\n",
    "\n",
    "    for edge_index, edge_nodes in enumerate(edges_list):\n",
    "        apply_to_qubits = vertex_qubits[edge_nodes[0]] + vertex_qubits[edge_nodes[1]] + [ancilla_qubits[edge_index]]\n",
    "        circuit.append(sim_op, apply_to_qubits)\n",
    "\n",
    "    return Operator(circuit)\n",
    "\n",
    "oracle_operator = grover_oracle(num_qubits=num_qubits,\n",
    "                                num_vertices=num_vertices, edges_list=edges_list)\n",
    "\n",
    "oracle_operator.draw(\"latex\")"
   ]
  },
  {
   "cell_type": "markdown",
   "id": "342d9cb4",
   "metadata": {},
   "source": [
    "### Test Oracle Operator (Single State Space)"
   ]
  },
  {
   "cell_type": "markdown",
   "id": "c7b9df40",
   "metadata": {},
   "source": [
    "#### Positive Test Case"
   ]
  },
  {
   "cell_type": "code",
   "execution_count": 12,
   "id": "5a647a23",
   "metadata": {},
   "outputs": [
    {
     "data": {
      "text/latex": [
       "$$\\psi_{input} =  |101000\\rangle$$"
      ],
      "text/plain": [
       "<IPython.core.display.Latex object>"
      ]
     },
     "metadata": {},
     "output_type": "display_data"
    },
    {
     "data": {
      "text/latex": [
       "$$\\psi_{output} = O \\psi_{input} = - |101000\\rangle$$"
      ],
      "text/plain": [
       "<IPython.core.display.Latex object>"
      ]
     },
     "metadata": {},
     "output_type": "display_data"
    }
   ],
   "source": [
    "input_label = \"101000\"\n",
    "instruction = grover_oracle(num_qubits=num_qubits,\n",
    "                                num_vertices=num_vertices, edges_list=edges_list)\n",
    "\n",
    "output_vector = Utils.test_label_circuit(label=input_label, instruction=instruction)"
   ]
  },
  {
   "cell_type": "markdown",
   "id": "f19daf3d",
   "metadata": {},
   "source": [
    "#### Negative Test Case"
   ]
  },
  {
   "cell_type": "code",
   "execution_count": 13,
   "id": "f41f79f7",
   "metadata": {},
   "outputs": [
    {
     "data": {
      "text/latex": [
       "$$\\psi_{input} =  |101010\\rangle$$"
      ],
      "text/plain": [
       "<IPython.core.display.Latex object>"
      ]
     },
     "metadata": {},
     "output_type": "display_data"
    },
    {
     "data": {
      "text/latex": [
       "$$\\psi_{output} = O \\psi_{input} =  |101010\\rangle$$"
      ],
      "text/plain": [
       "<IPython.core.display.Latex object>"
      ]
     },
     "metadata": {},
     "output_type": "display_data"
    }
   ],
   "source": [
    "input_label = \"101010\"\n",
    "instruction = grover_oracle(num_qubits=num_qubits,\n",
    "                                num_vertices=num_vertices, edges_list=edges_list)\n",
    "\n",
    "output_vector = Utils.test_label_circuit(label=input_label, instruction=instruction)"
   ]
  },
  {
   "cell_type": "markdown",
   "id": "b5a38a7c",
   "metadata": {},
   "source": [
    "### Test Oracle Operator (Super-Position)"
   ]
  },
  {
   "cell_type": "code",
   "execution_count": 14,
   "id": "bce8e822",
   "metadata": {},
   "outputs": [
    {
     "data": {
      "text/latex": [
       "$$\\psi_{input} = 0.1767766953 |000000\\rangle+0.1767766953 |000001\\rangle+0.1767766953 |000010\\rangle+0.1767766953 |000011\\rangle+0.1767766953 |000100\\rangle+0.1767766953 |000101\\rangle + \\ldots +0.1767766953 |101011\\rangle+0.1767766953 |101100\\rangle+0.1767766953 |101101\\rangle+0.1767766953 |101110\\rangle+0.1767766953 |101111\\rangle$$"
      ],
      "text/plain": [
       "<IPython.core.display.Latex object>"
      ]
     },
     "metadata": {},
     "output_type": "display_data"
    },
    {
     "data": {
      "text/latex": [
       "$$\\psi_{output} = O \\psi_{input} = 0.1767766953 |000000\\rangle+0.1767766953 |000001\\rangle+0.1767766953 |000010\\rangle+0.1767766953 |000011\\rangle+0.1767766953 |000100\\rangle+0.1767766953 |000101\\rangle + \\ldots -0.1767766953 |101011\\rangle-0.1767766953 |101100\\rangle-0.1767766953 |101101\\rangle-0.1767766953 |101110\\rangle+0.1767766953 |101111\\rangle$$"
      ],
      "text/plain": [
       "<IPython.core.display.Latex object>"
      ]
     },
     "metadata": {},
     "output_type": "display_data"
    }
   ],
   "source": [
    "input_label = \"+0++++\"\n",
    "instruction = grover_oracle(num_qubits=num_qubits,\n",
    "                                num_vertices=num_vertices, edges_list=edges_list)\n",
    "\n",
    "output_vector = Utils.test_label_circuit(label=input_label, instruction=instruction)"
   ]
  },
  {
   "cell_type": "code",
   "execution_count": 15,
   "id": "7ce347a0",
   "metadata": {},
   "outputs": [
    {
     "name": "stdout",
     "output_type": "stream",
     "text": [
      "Correct Amplitude: -0.17677669529663678\n",
      "Incorrect Amplitude: 0.17677669529663678\n"
     ]
    }
   ],
   "source": [
    "import numpy as np\n",
    "\n",
    "print(\"Correct Amplitude:\", np.real(output_vector[int(\"101000\", 2)]))\n",
    "print(\"Incorrect Amplitude:\", np.real(output_vector[int(\"101010\", 2)]))"
   ]
  },
  {
   "cell_type": "markdown",
   "id": "b67867fa",
   "metadata": {},
   "source": [
    "## Ristricting State Space for Number of Colors"
   ]
  },
  {
   "cell_type": "code",
   "execution_count": 16,
   "id": "12852048",
   "metadata": {},
   "outputs": [
    {
     "data": {
      "text/latex": [
       "$$\n",
       "\n",
       "\\begin{bmatrix}\n",
       "\\frac{1}{2} & 0 & - \\frac{i}{2} & 0 & \\cdots & 0 & 0 & 0  \\\\\n",
       " 0 & \\frac{1}{2} & 0 & - \\frac{i}{2} & \\cdots & 0 & 0 & 0  \\\\\n",
       " \\frac{1}{2} & 0 & \\frac{i}{2} & 0 & \\cdots & 0 & 0 & 0  \\\\\n",
       " 0 & \\frac{1}{2} & 0 & \\frac{i}{2} & \\cdots & 0 & 0 & 0  \\\\\n",
       " \\vdots & \\vdots & \\vdots & \\vdots & \\ddots & \\vdots & \\vdots & \\vdots \\\\\n",
       " 0 & 0 & 0 & 0 & \\cdots & \\frac{\\sqrt{2}}{2} & 0 & 0  \\\\\n",
       " 0 & 0 & 0 & 0 & \\cdots & 0 & - \\frac{\\sqrt{2} i}{2} & 0  \\\\\n",
       " 0 & 0 & 0 & 0 & \\cdots & 0 & 0 & - \\frac{\\sqrt{2} i}{2}  \\\\\n",
       " \\end{bmatrix}\n",
       "$$"
      ],
      "text/plain": [
       "<IPython.core.display.Latex object>"
      ]
     },
     "execution_count": 16,
     "metadata": {},
     "output_type": "execute_result"
    }
   ],
   "source": [
    "from itertools import product\n",
    "import numpy as np\n",
    "from qiskit.quantum_info import Statevector, Operator\n",
    "from qiskit import QuantumCircuit, transpile\n",
    "import textwrap\n",
    "\n",
    "def circuit_initializer(num_qubits: int, restrict_states: list[str]) -> QuantumCircuit:\n",
    "    circuit = QuantumCircuit(num_qubits)\n",
    "\n",
    "    bin_seq = [\"\".join(seq) for seq in product(\"01\", repeat=num_qubits)]\n",
    "    bin_seq = list(map(lambda x: textwrap.wrap(x, 2), bin_seq))\n",
    "\n",
    "    allowed_states = [state for state in bin_seq if not any(rs in state for rs in restrict_states)]\n",
    "    allowed_states = list(map(lambda x: \"\".join(x), allowed_states))\n",
    "\n",
    "    amplitude = len(allowed_states)\n",
    "    bin_seq = list(map(lambda x: \"\".join(x), bin_seq))\n",
    "\n",
    "    state_vec_amplitudes = [1 / np.sqrt(amplitude) if state in allowed_states else 0 for state in bin_seq]\n",
    "    psi_0 = Statevector(state_vec_amplitudes)\n",
    "\n",
    "    if psi_0.is_valid():\n",
    "        circuit.initialize(psi_0)\n",
    "\n",
    "    circuit = transpile(circuit)\n",
    "    circuit.data = [inst for inst in circuit.data if inst.operation.name != \"reset\"]\n",
    "\n",
    "    return Operator(circuit.to_gate())\n",
    "\n",
    "restrict_operator = circuit_initializer(num_qubits=(num_vertices * 2), restrict_states=[\"11\", \"01\"])\n",
    "restrict_operator.draw(\"latex\")"
   ]
  },
  {
   "cell_type": "markdown",
   "id": "aa7d7edf",
   "metadata": {},
   "source": [
    "### Test Ristrict Operator (Base Case)"
   ]
  },
  {
   "cell_type": "code",
   "execution_count": 17,
   "id": "da17b580",
   "metadata": {},
   "outputs": [
    {
     "data": {
      "text/latex": [
       "$$\\psi_{input} =  |0000\\rangle$$"
      ],
      "text/plain": [
       "<IPython.core.display.Latex object>"
      ]
     },
     "metadata": {},
     "output_type": "display_data"
    },
    {
     "data": {
      "text/latex": [
       "$$\\psi_{output} = O \\psi_{input} = \\frac{1}{2} |0000\\rangle+\\frac{1}{2} |0001\\rangle+\\frac{1}{2} |0100\\rangle+\\frac{1}{2} |0101\\rangle$$"
      ],
      "text/plain": [
       "<IPython.core.display.Latex object>"
      ]
     },
     "metadata": {},
     "output_type": "display_data"
    }
   ],
   "source": [
    "input_label = \"0000\"\n",
    "instruction = circuit_initializer(num_qubits=(num_vertices * 2), restrict_states=[\"11\", \"10\"])\n",
    "\n",
    "output_vector = Utils.test_label_circuit(label=input_label, instruction=instruction)"
   ]
  },
  {
   "cell_type": "markdown",
   "id": "b195f0fe",
   "metadata": {},
   "source": [
    "#### Check if the state is Entangled"
   ]
  },
  {
   "cell_type": "code",
   "execution_count": 18,
   "id": "594214bd",
   "metadata": {},
   "outputs": [
    {
     "data": {
      "text/plain": [
       "False"
      ]
     },
     "execution_count": 18,
     "metadata": {},
     "output_type": "execute_result"
    }
   ],
   "source": [
    "Utils.is_entangled(state=output_vector)"
   ]
  },
  {
   "cell_type": "markdown",
   "id": "554e5ebb",
   "metadata": {},
   "source": [
    "### Test Ristrict Operator (with H Gate to Output Qubit)"
   ]
  },
  {
   "cell_type": "code",
   "execution_count": 19,
   "id": "d8b5b47c",
   "metadata": {},
   "outputs": [
    {
     "data": {
      "text/latex": [
       "$$\\psi_{input} =  |000000\\rangle$$"
      ],
      "text/plain": [
       "<IPython.core.display.Latex object>"
      ]
     },
     "metadata": {},
     "output_type": "display_data"
    },
    {
     "data": {
      "text/latex": [
       "$$\\psi_{output} = O \\psi_{input} = \\frac{\\sqrt{2}}{4} |000000\\rangle+\\frac{\\sqrt{2}}{4} |000001\\rangle+\\frac{\\sqrt{2}}{4} |000100\\rangle+\\frac{\\sqrt{2}}{4} |000101\\rangle+\\frac{\\sqrt{2}}{4} |100000\\rangle+\\frac{\\sqrt{2}}{4} |100001\\rangle+\\frac{\\sqrt{2}}{4} |100100\\rangle+\\frac{\\sqrt{2}}{4} |100101\\rangle$$"
      ],
      "text/plain": [
       "<IPython.core.display.Latex object>"
      ]
     },
     "metadata": {},
     "output_type": "display_data"
    }
   ],
   "source": [
    "from qiskit import QuantumCircuit\n",
    "\n",
    "input_label = \"000000\"\n",
    "instruction = circuit_initializer(num_qubits=(num_vertices * 2), restrict_states=[\"11\", \"10\"])\n",
    "\n",
    "circuit = QuantumCircuit(num_qubits)\n",
    "circuit.append(instruction, list(range(num_vertices * 2)))\n",
    "circuit.h(-1)\n",
    "\n",
    "output_vector = Utils.test_label_circuit(label=input_label, instruction=circuit)"
   ]
  },
  {
   "cell_type": "markdown",
   "id": "9eac552e",
   "metadata": {},
   "source": [
    "### Test Ristrict Operator with Grover's Oracle"
   ]
  },
  {
   "cell_type": "code",
   "execution_count": 20,
   "id": "a4a262e2",
   "metadata": {},
   "outputs": [
    {
     "data": {
      "text/latex": [
       "$$\\psi_{input} =  |000000\\rangle$$"
      ],
      "text/plain": [
       "<IPython.core.display.Latex object>"
      ]
     },
     "metadata": {},
     "output_type": "display_data"
    },
    {
     "data": {
      "text/latex": [
       "$$\\psi_{output} = O \\psi_{input} = \\frac{\\sqrt{2}}{4} |000000\\rangle+\\frac{\\sqrt{2}}{4} |000001\\rangle+\\frac{\\sqrt{2}}{4} |000100\\rangle+\\frac{\\sqrt{2}}{4} |000101\\rangle+\\frac{\\sqrt{2}}{4} |100000\\rangle- \\frac{\\sqrt{2}}{4} |100001\\rangle- \\frac{\\sqrt{2}}{4} |100100\\rangle+\\frac{\\sqrt{2}}{4} |100101\\rangle$$"
      ],
      "text/plain": [
       "<IPython.core.display.Latex object>"
      ]
     },
     "metadata": {},
     "output_type": "display_data"
    }
   ],
   "source": [
    "from qiskit import QuantumCircuit\n",
    "\n",
    "input_label = \"000000\"\n",
    "instruction_ristrict = circuit_initializer(num_qubits=(num_vertices * 2), restrict_states=[\"11\", \"10\"])\n",
    "instruction_oracle = grover_oracle(num_qubits=num_qubits,\n",
    "                                num_vertices=num_vertices, edges_list=edges_list)\n",
    "\n",
    "circuit = QuantumCircuit(num_qubits)\n",
    "circuit.append(instruction_ristrict, list(range(num_vertices * 2)))\n",
    "circuit.h(-1)\n",
    "\n",
    "circuit.append(instruction_oracle, list(range(num_qubits)))\n",
    "\n",
    "output_vector = Utils.test_label_circuit(label=input_label, instruction=circuit)"
   ]
  },
  {
   "cell_type": "markdown",
   "id": "62a090ac",
   "metadata": {},
   "source": [
    "## Grover's Diffusion Operator"
   ]
  },
  {
   "cell_type": "code",
   "execution_count": 21,
   "id": "4f464e11",
   "metadata": {},
   "outputs": [
    {
     "data": {
      "text/latex": [
       "$$\n",
       "\n",
       "\\begin{bmatrix}\n",
       "- \\frac{15}{16} & \\frac{1}{16} & \\frac{1}{16} & \\frac{1}{16} & \\cdots & \\frac{1}{16} & \\frac{1}{16} & \\frac{1}{16}  \\\\\n",
       " \\frac{1}{16} & - \\frac{15}{16} & \\frac{1}{16} & \\frac{1}{16} & \\cdots & \\frac{1}{16} & \\frac{1}{16} & \\frac{1}{16}  \\\\\n",
       " \\frac{1}{16} & \\frac{1}{16} & - \\frac{15}{16} & \\frac{1}{16} & \\cdots & \\frac{1}{16} & \\frac{1}{16} & \\frac{1}{16}  \\\\\n",
       " \\frac{1}{16} & \\frac{1}{16} & \\frac{1}{16} & - \\frac{15}{16} & \\cdots & \\frac{1}{16} & \\frac{1}{16} & \\frac{1}{16}  \\\\\n",
       " \\vdots & \\vdots & \\vdots & \\vdots & \\ddots & \\vdots & \\vdots & \\vdots \\\\\n",
       " \\frac{1}{16} & \\frac{1}{16} & \\frac{1}{16} & \\frac{1}{16} & \\cdots & - \\frac{15}{16} & \\frac{1}{16} & \\frac{1}{16}  \\\\\n",
       " \\frac{1}{16} & \\frac{1}{16} & \\frac{1}{16} & \\frac{1}{16} & \\cdots & \\frac{1}{16} & - \\frac{15}{16} & \\frac{1}{16}  \\\\\n",
       " \\frac{1}{16} & \\frac{1}{16} & \\frac{1}{16} & \\frac{1}{16} & \\cdots & \\frac{1}{16} & \\frac{1}{16} & - \\frac{15}{16}  \\\\\n",
       " \\end{bmatrix}\n",
       "$$"
      ],
      "text/plain": [
       "<IPython.core.display.Latex object>"
      ]
     },
     "execution_count": 21,
     "metadata": {},
     "output_type": "execute_result"
    }
   ],
   "source": [
    "from qiskit.quantum_info import Operator\n",
    "from qiskit import QuantumCircuit\n",
    "\n",
    "def diffusion_operator(num_vertices: int, custom_initializer: bool = False) -> Operator:\n",
    "    circuit = QuantumCircuit((num_vertices * 2) + 1)\n",
    "\n",
    "    if custom_initializer:\n",
    "        restrict_operator = circuit_initializer(num_qubits=(num_vertices * 2), restrict_states=[\"11\", \"01\"])\n",
    "        circuit.append(restrict_operator, list(range(num_vertices * 2)))\n",
    "\n",
    "    else:\n",
    "        circuit.h(list(range(num_vertices * 2)))\n",
    "\n",
    "    circuit.h(-1)\n",
    "\n",
    "    vector_input = Statevector.from_instruction(circuit)\n",
    "    vector_outer = np.outer(vector_input, vector_input)\n",
    "\n",
    "    return Operator((2 * vector_outer) - np.eye(vector_outer.shape[0]))\n",
    "\n",
    "diffusion_op = diffusion_operator(num_vertices=num_vertices)\n",
    "diffusion_op.draw(\"latex\")"
   ]
  },
  {
   "cell_type": "markdown",
   "id": "a0434eed",
   "metadata": {},
   "source": [
    "### Test Diffusion Operator on Random State"
   ]
  },
  {
   "cell_type": "code",
   "execution_count": 22,
   "id": "25c21546",
   "metadata": {},
   "outputs": [
    {
     "name": "stdout",
     "output_type": "stream",
     "text": [
      "[3]\n"
     ]
    },
    {
     "data": {
      "text/latex": [
       "$$0.1767766953 |00000\\rangle+0.1767766953 |00001\\rangle+0.1767766953 |00010\\rangle-0.1767766953 |00011\\rangle+0.1767766953 |00100\\rangle+0.1767766953 |00101\\rangle + \\ldots +0.1767766953 |11011\\rangle+0.1767766953 |11100\\rangle+0.1767766953 |11101\\rangle+0.1767766953 |11110\\rangle+0.1767766953 |11111\\rangle$$"
      ],
      "text/plain": [
       "<IPython.core.display.Latex object>"
      ]
     },
     "execution_count": 22,
     "metadata": {},
     "output_type": "execute_result"
    }
   ],
   "source": [
    "from qiskit.quantum_info import Statevector\n",
    "import numpy as np\n",
    "\n",
    "N = 5\n",
    "size = 1\n",
    "\n",
    "random_negative_idx = list(set(np.sort(np.random.randint(low=0, high=(2 ** N) - 1, size=size)).tolist()))\n",
    "print(random_negative_idx)\n",
    "\n",
    "test_vector_input = np.array(Statevector.from_label(\"+\" * N))\n",
    "test_vector_input[random_negative_idx] *= -1\n",
    "\n",
    "test_vector_input = Statevector(test_vector_input)\n",
    "test_vector_input.draw(\"latex\")"
   ]
  },
  {
   "cell_type": "code",
   "execution_count": 23,
   "id": "3a155c8d",
   "metadata": {},
   "outputs": [
    {
     "name": "stdout",
     "output_type": "stream",
     "text": [
      "Correct Amplitude: -0.1767766952966368\n"
     ]
    }
   ],
   "source": [
    "import numpy as np\n",
    "\n",
    "print(\"Correct Amplitude:\", np.real(test_vector_input[random_negative_idx[0]]))"
   ]
  },
  {
   "cell_type": "code",
   "execution_count": 24,
   "id": "1f9c3cf7",
   "metadata": {},
   "outputs": [
    {
     "data": {
      "image/png": "[encoded data removed]",
      "text/plain": [
       "<Figure size 287.496x451.5 with 1 Axes>"
      ]
     },
     "execution_count": 24,
     "metadata": {},
     "output_type": "execute_result"
    }
   ],
   "source": [
    "from qiskit import QuantumCircuit\n",
    "\n",
    "diffusion_op = diffusion_operator(num_vertices=2)\n",
    "\n",
    "test_circuit = QuantumCircuit(N)\n",
    "test_circuit.append(diffusion_op, list(range(N)))\n",
    "\n",
    "test_circuit.draw(\"mpl\")"
   ]
  },
  {
   "cell_type": "code",
   "execution_count": 25,
   "id": "7b393484",
   "metadata": {},
   "outputs": [
    {
     "data": {
      "text/latex": [
       "$$0.1546796084 |00000\\rangle+0.1546796084 |00001\\rangle+0.1546796084 |00010\\rangle+0.508232999 |00011\\rangle+0.1546796084 |00100\\rangle+0.1546796084 |00101\\rangle + \\ldots +0.1546796084 |11011\\rangle+0.1546796084 |11100\\rangle+0.1546796084 |11101\\rangle+0.1546796084 |11110\\rangle+0.1546796084 |11111\\rangle$$"
      ],
      "text/plain": [
       "<IPython.core.display.Latex object>"
      ]
     },
     "execution_count": 25,
     "metadata": {},
     "output_type": "execute_result"
    }
   ],
   "source": [
    "test_vector_output = test_vector_input.evolve(test_circuit)\n",
    "test_vector_output.draw(\"latex\")"
   ]
  },
  {
   "cell_type": "code",
   "execution_count": 26,
   "id": "fa788c12",
   "metadata": {},
   "outputs": [
    {
     "name": "stdout",
     "output_type": "stream",
     "text": [
      "Correct Amplitude: 0.5082329989778305\n"
     ]
    }
   ],
   "source": [
    "import numpy as np\n",
    "\n",
    "print(\"Correct Amplitude:\", np.real(test_vector_output[random_negative_idx[0]]))"
   ]
  },
  {
   "cell_type": "markdown",
   "id": "9e64ffad",
   "metadata": {},
   "source": [
    "## Apply Grover's Search on the Problem (with all State Space, i.e., Super-Position)"
   ]
  },
  {
   "cell_type": "markdown",
   "id": "efca0740",
   "metadata": {},
   "source": [
    "### One Iteration"
   ]
  },
  {
   "cell_type": "code",
   "execution_count": 27,
   "id": "27240418",
   "metadata": {},
   "outputs": [
    {
     "data": {
      "image/png": "[encoded data removed]",
      "text/plain": [
       "<Figure size 538.33x618.722 with 1 Axes>"
      ]
     },
     "execution_count": 27,
     "metadata": {},
     "output_type": "execute_result"
    }
   ],
   "source": [
    "from qiskit import QuantumCircuit, QuantumRegister, ClassicalRegister\n",
    "\n",
    "q_regs = QuantumRegister(num_qubits, name='q')\n",
    "c_regs = ClassicalRegister(num_qubits, name='c')\n",
    "\n",
    "oracle_operator = grover_oracle(num_qubits=num_qubits,\n",
    "                                num_vertices=num_vertices, edges_list=edges_list)\n",
    "diffusion_op = diffusion_operator(num_vertices=num_vertices)\n",
    "\n",
    "circuit = QuantumCircuit(q_regs, c_regs)\n",
    "\n",
    "circuit.h(q_regs[:num_vertices * 2])\n",
    "circuit.h(q_regs[-1])\n",
    "\n",
    "circuit.append(oracle_operator, q_regs)\n",
    "circuit.append(diffusion_op, list(range(num_vertices * 2)) + [num_qubits - 1])\n",
    "\n",
    "circuit.draw(\"mpl\")"
   ]
  },
  {
   "cell_type": "code",
   "execution_count": 28,
   "id": "9fa249b5",
   "metadata": {},
   "outputs": [
    {
     "data": {
      "image/png": "[encoded data removed]",
      "text/plain": [
       "<Figure size 1500x800 with 1 Axes>"
      ]
     },
     "metadata": {},
     "output_type": "display_data"
    }
   ],
   "source": [
    "Utils.simulate(circuit=circuit)"
   ]
  },
  {
   "cell_type": "markdown",
   "id": "9e4d0f5e",
   "metadata": {},
   "source": [
    "### More than One Iteration"
   ]
  },
  {
   "cell_type": "code",
   "execution_count": 29,
   "id": "a0d3aba3",
   "metadata": {},
   "outputs": [
    {
     "name": "stdout",
     "output_type": "stream",
     "text": [
      "1\n"
     ]
    }
   ],
   "source": [
    "num_iter = Utils.get_num_iter(num_qubits=(num_qubits - 1), num_solutions=12)\n",
    "print(num_iter)"
   ]
  },
  {
   "cell_type": "code",
   "execution_count": null,
   "id": "0f2de8ee",
   "metadata": {},
   "outputs": [
    {
     "data": {
      "image/png": "[encoded data removed]",
      "text/plain": [
       "<Figure size 538.33x618.722 with 1 Axes>"
      ]
     },
     "execution_count": 30,
     "metadata": {},
     "output_type": "execute_result"
    }
   ],
   "source": [
    "from qiskit import QuantumCircuit, QuantumRegister, ClassicalRegister\n",
    "\n",
    "q_regs = QuantumRegister(num_qubits, name='q')\n",
    "c_regs = ClassicalRegister(num_qubits, name='c')\n",
    "\n",
    "\n",
    "oracle_operator = grover_oracle(num_qubits=num_qubits,\n",
    "                                num_vertices=num_vertices, edges_list=edges_list)\n",
    "diffusion_op = diffusion_operator(num_vertices=num_vertices)\n",
    "\n",
    "circuit = QuantumCircuit(q_regs, c_regs)\n",
    "\n",
    "circuit.h(q_regs[:num_vertices * 2])\n",
    "circuit.h(q_regs[-1])\n",
    "\n",
    "for _ in range(num_iter):\n",
    "    circuit.append(oracle_operator, q_regs)\n",
    "    circuit.append(diffusion_op, list(range(num_vertices * 2)) + [num_qubits - 1])\n",
    "\n",
    "circuit.draw(\"mpl\")"
   ]
  },
  {
   "cell_type": "code",
   "execution_count": 31,
   "id": "eb8b59cc",
   "metadata": {},
   "outputs": [
    {
     "data": {
      "image/png": "[encoded data removed]",
      "text/plain": [
       "<Figure size 1500x800 with 1 Axes>"
      ]
     },
     "metadata": {},
     "output_type": "display_data"
    }
   ],
   "source": [
    "Utils.simulate(circuit=circuit, num_shots=(2 ** 11))"
   ]
  },
  {
   "cell_type": "markdown",
   "id": "3728f79c",
   "metadata": {},
   "source": [
    "## Apply Grover's Search on the Problem (with Ristricted State Space, i.e., Only Valid Colors)"
   ]
  },
  {
   "cell_type": "markdown",
   "id": "418f3d81",
   "metadata": {},
   "source": [
    "### One Iteration"
   ]
  },
  {
   "cell_type": "code",
   "execution_count": 43,
   "id": "4a9d178f",
   "metadata": {},
   "outputs": [
    {
     "data": {
      "image/png": "[encoded data removed]",
      "text/plain": [
       "<Figure size 621.941x618.722 with 1 Axes>"
      ]
     },
     "execution_count": 43,
     "metadata": {},
     "output_type": "execute_result"
    }
   ],
   "source": [
    "from qiskit import QuantumCircuit, QuantumRegister, ClassicalRegister\n",
    "\n",
    "q_regs = QuantumRegister(num_qubits, name='q')\n",
    "c_regs = ClassicalRegister(num_qubits, name='c')\n",
    "\n",
    "ristrict_operator = circuit_initializer(num_qubits=(num_vertices * 2), restrict_states=[\"11\", \"01\"])\n",
    "oracle_operator = grover_oracle(num_qubits=num_qubits,\n",
    "                                num_vertices=num_vertices, edges_list=edges_list)\n",
    "diffusion_op = diffusion_operator(num_vertices=num_vertices, custom_initializer=True)\n",
    "\n",
    "circuit = QuantumCircuit(q_regs, c_regs)\n",
    "\n",
    "circuit.append(ristrict_operator, list(range(num_vertices * 2)))\n",
    "circuit.h(q_regs[-1])\n",
    "\n",
    "circuit.append(oracle_operator, q_regs)\n",
    "circuit.append(diffusion_op, list(range(num_vertices * 2)) + [num_qubits - 1])\n",
    "\n",
    "circuit.draw(\"mpl\")"
   ]
  },
  {
   "cell_type": "code",
   "execution_count": 44,
   "id": "ca0885d7",
   "metadata": {},
   "outputs": [
    {
     "data": {
      "image/png": "[encoded data removed]",
      "text/plain": [
       "<Figure size 1500x800 with 1 Axes>"
      ]
     },
     "metadata": {},
     "output_type": "display_data"
    }
   ],
   "source": [
    "Utils.simulate(circuit=circuit)"
   ]
  },
  {
   "cell_type": "markdown",
   "id": "e850b277",
   "metadata": {},
   "source": [
    "### More than One Iteration"
   ]
  },
  {
   "cell_type": "code",
   "execution_count": 45,
   "id": "8eb1e6dc",
   "metadata": {},
   "outputs": [
    {
     "name": "stdout",
     "output_type": "stream",
     "text": [
      "Number of Iterations: 2\n"
     ]
    },
    {
     "data": {
      "image/png": "[encoded data removed]",
      "text/plain": [
       "<Figure size 956.385x618.722 with 1 Axes>"
      ]
     },
     "execution_count": 45,
     "metadata": {},
     "output_type": "execute_result"
    }
   ],
   "source": [
    "from qiskit import QuantumCircuit, QuantumRegister, ClassicalRegister\n",
    "\n",
    "num_iter = Utils.get_num_iter(num_states=16, num_solutions=2)\n",
    "print(f\"Number of Iterations: {num_iter}\")\n",
    "\n",
    "q_regs = QuantumRegister(num_qubits, name='q')\n",
    "c_regs = ClassicalRegister(num_qubits, name='c')\n",
    "\n",
    "ristrict_operator = circuit_initializer(num_qubits=(num_vertices * 2), restrict_states=[\"11\", \"01\"])\n",
    "oracle_operator = grover_oracle(num_qubits=num_qubits,\n",
    "                                num_vertices=num_vertices, edges_list=edges_list)\n",
    "diffusion_op = diffusion_operator(num_vertices=num_vertices, custom_initializer=True)\n",
    "\n",
    "circuit = QuantumCircuit(q_regs, c_regs)\n",
    "\n",
    "circuit.append(ristrict_operator, list(range(num_vertices * 2)))\n",
    "circuit.h(q_regs[-1])\n",
    "\n",
    "for _ in range(num_iter):\n",
    "    circuit.append(oracle_operator, q_regs)\n",
    "    circuit.append(diffusion_op, list(range(num_vertices * 2)) + [num_qubits - 1])\n",
    "\n",
    "circuit.draw(\"mpl\")"
   ]
  },
  {
   "cell_type": "code",
   "execution_count": 46,
   "id": "ca075393",
   "metadata": {},
   "outputs": [
    {
     "data": {
      "image/png": "[encoded data removed]",
      "text/plain": [
       "<Figure size 1500x800 with 1 Axes>"
      ]
     },
     "metadata": {},
     "output_type": "display_data"
    }
   ],
   "source": [
    "Utils.simulate(circuit=circuit)"
   ]
  },
  {
   "cell_type": "code",
   "execution_count": null,
   "id": "bdfc6f6d",
   "metadata": {},
   "outputs": [],
   "source": []
  }
 ],
 "metadata": {
  "kernelspec": {
   "display_name": "quantum-env",
   "language": "python",
   "name": "python3"
  },
  "language_info": {
   "codemirror_mode": {
    "name": "ipython",
    "version": 3
   },
   "file_extension": ".py",
   "mimetype": "text/x-python",
   "name": "python",
   "nbconvert_exporter": "python",
   "pygments_lexer": "ipython3",
   "version": "3.12.8"
  }
 },
 "nbformat": 4,
 "nbformat_minor": 5
}
