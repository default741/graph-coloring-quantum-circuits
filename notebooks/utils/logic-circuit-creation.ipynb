{
 "cells": [
  {
   "cell_type": "code",
   "execution_count": 115,
   "metadata": {},
   "outputs": [],
   "source": [
    "from itertools import product\n",
    "\n",
    "def create_truth_table(num_inputs: int) -> tuple:\n",
    "\n",
    "    truth_table_inputs = list(product([0, 1], repeat=num_inputs))\n",
    "    truth_table_outputs = list()\n",
    "\n",
    "    for _, input_values in enumerate(truth_table_inputs):\n",
    "        input_values_str = list(map(lambda x: str(x), input_values))\n",
    "\n",
    "        if ''.join(input_values_str[:2]) == ''.join(input_values_str[2:]):\n",
    "            truth_table_outputs.append(0)\n",
    "        else:\n",
    "            truth_table_outputs.append(1)\n",
    "\n",
    "    print(f\"|       I       | O |\")\n",
    "    print(f\"---------------------\")\n",
    "\n",
    "    for truth_table_values in zip(truth_table_inputs, truth_table_outputs):\n",
    "        print(f\"| {truth_table_values[0][0]} | {truth_table_values[0][1]} | {truth_table_values[0][2]} | {truth_table_values[0][3]} | {truth_table_values[1]} |\")\n",
    "\n",
    "    return truth_table_inputs, truth_table_outputs"
   ]
  },
  {
   "cell_type": "code",
   "execution_count": 116,
   "metadata": {},
   "outputs": [
    {
     "name": "stdout",
     "output_type": "stream",
     "text": [
      "|       I       | O |\n",
      "---------------------\n",
      "| 0 | 0 | 0 | 0 | 0 |\n",
      "| 0 | 0 | 0 | 1 | 1 |\n",
      "| 0 | 0 | 1 | 0 | 1 |\n",
      "| 0 | 0 | 1 | 1 | 1 |\n",
      "| 0 | 1 | 0 | 0 | 1 |\n",
      "| 0 | 1 | 0 | 1 | 0 |\n",
      "| 0 | 1 | 1 | 0 | 1 |\n",
      "| 0 | 1 | 1 | 1 | 1 |\n",
      "| 1 | 0 | 0 | 0 | 1 |\n",
      "| 1 | 0 | 0 | 1 | 1 |\n",
      "| 1 | 0 | 1 | 0 | 0 |\n",
      "| 1 | 0 | 1 | 1 | 1 |\n",
      "| 1 | 1 | 0 | 0 | 1 |\n",
      "| 1 | 1 | 0 | 1 | 1 |\n",
      "| 1 | 1 | 1 | 0 | 1 |\n",
      "| 1 | 1 | 1 | 1 | 0 |\n"
     ]
    }
   ],
   "source": [
    "(inputs, outputs) = create_truth_table(num_inputs=4)"
   ]
  },
  {
   "cell_type": "code",
   "execution_count": 117,
   "metadata": {},
   "outputs": [],
   "source": [
    "circuit = []\n",
    "\n",
    "for input, output in zip(inputs, outputs):\n",
    "    circuit_str = \"\"\n",
    "\n",
    "    if output == 0:\n",
    "        if input[0] == 1:\n",
    "            circuit_str += \"(NOT(c0)\"\n",
    "        else:\n",
    "            circuit_str += \"(c0\"\n",
    "\n",
    "        circuit_str += \" OR \"\n",
    "\n",
    "        if input[1] == 1:\n",
    "            circuit_str += \"NOT(c1)\"\n",
    "        else:\n",
    "            circuit_str += \"c1\"\n",
    "\n",
    "        circuit_str += \" OR \"\n",
    "\n",
    "        if input[2] == 1:\n",
    "            circuit_str += \"NOT(c2)\"\n",
    "        else:\n",
    "            circuit_str += \"c2\"\n",
    "\n",
    "        circuit_str += \" OR \"\n",
    "\n",
    "        if input[3] == 1:\n",
    "            circuit_str += \"NOT(c3))\"\n",
    "        else:\n",
    "            circuit_str += \"c3)\"\n",
    "\n",
    "        circuit.append(circuit_str)"
   ]
  },
  {
   "cell_type": "code",
   "execution_count": 118,
   "metadata": {},
   "outputs": [
    {
     "data": {
      "text/plain": [
       "'(c0 OR c1 OR c2 OR c3) AND (c0 OR NOT(c1) OR c2 OR NOT(c3)) AND (NOT(c0) OR c1 OR NOT(c2) OR c3) AND (NOT(c0) OR NOT(c1) OR NOT(c2) OR NOT(c3))'"
      ]
     },
     "execution_count": 118,
     "metadata": {},
     "output_type": "execute_result"
    }
   ],
   "source": [
    "\" AND \".join(circuit)"
   ]
  },
  {
   "cell_type": "code",
   "execution_count": 119,
   "metadata": {},
   "outputs": [
    {
     "data": {
      "text/plain": [
       "['(c0 OR c1 OR c2 OR c3)',\n",
       " '(c0 OR NOT(c1) OR c2 OR NOT(c3))',\n",
       " '(NOT(c0) OR c1 OR NOT(c2) OR c3)',\n",
       " '(NOT(c0) OR NOT(c1) OR NOT(c2) OR NOT(c3))']"
      ]
     },
     "execution_count": 119,
     "metadata": {},
     "output_type": "execute_result"
    }
   ],
   "source": [
    "circuit"
   ]
  },
  {
   "cell_type": "code",
   "execution_count": 120,
   "metadata": {},
   "outputs": [],
   "source": [
    "bool_expr_fn = lambda x: (x[0] ^ x[2]) or (x[1] ^ x[3])"
   ]
  },
  {
   "cell_type": "code",
   "execution_count": 121,
   "metadata": {},
   "outputs": [
    {
     "data": {
      "text/plain": [
       "[0, 1, 1, 1, 1, 0, 1, 1, 1, 1, 0, 1, 1, 1, 1, 0]"
      ]
     },
     "execution_count": 121,
     "metadata": {},
     "output_type": "execute_result"
    }
   ],
   "source": [
    "list(map(bool_expr_fn, inputs))"
   ]
  },
  {
   "cell_type": "code",
   "execution_count": null,
   "metadata": {},
   "outputs": [],
   "source": [
    "from qiskit.circuit.library import OrGate"
   ]
  }
 ],
 "metadata": {
  "kernelspec": {
   "display_name": "quantum-env",
   "language": "python",
   "name": "python3"
  },
  "language_info": {
   "codemirror_mode": {
    "name": "ipython",
    "version": 3
   },
   "file_extension": ".py",
   "mimetype": "text/x-python",
   "name": "python",
   "nbconvert_exporter": "python",
   "pygments_lexer": "ipython3",
   "version": "3.12.8"
  }
 },
 "nbformat": 4,
 "nbformat_minor": 2
}
